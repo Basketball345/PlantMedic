{
  "cells": [
    {
      "cell_type": "code",
      "execution_count": 9,
      "metadata": {
        "id": "NQdUnyvBJVWE"
      },
      "outputs": [],
      "source": [
        "# Install Dependencies and Set-up\n",
        "import tensorflow as tf\n",
        "import os\n",
        "import cv2\n",
        "import imghdr\n",
        "import numpy as np\n",
        "from matplotlib import pyplot as plt\n"
      ]
    },
    {
      "cell_type": "code",
      "execution_count": null,
      "metadata": {
        "colab": {
          "base_uri": "https://localhost:8080/",
          "height": 74
        },
        "id": "LV93cQMBHU7I",
        "outputId": "842a0f47-1369-46be-c36a-84ec8ea3cd47"
      },
      "outputs": [],
      "source": [
        "from google.colab import files\n",
        "Train_Dataset = files.upload()"
      ]
    },
    {
      "cell_type": "code",
      "execution_count": null,
      "metadata": {
        "colab": {
          "base_uri": "https://localhost:8080/"
        },
        "id": "WS1K6RYcLW-P",
        "outputId": "8c33ec26-98ee-42bf-c726-72f5c46ed8ee"
      },
      "outputs": [],
      "source": [
        "!unzip train.zip"
      ]
    },
    {
      "cell_type": "code",
      "execution_count": null,
      "metadata": {
        "colab": {
          "base_uri": "https://localhost:8080/",
          "height": 74
        },
        "id": "_G7bqDbclYLH",
        "outputId": "f9fc5fce-236f-43bb-f465-4aacfe693572"
      },
      "outputs": [],
      "source": [
        "from google.colab import files\n",
        "Valid_Dataset = files.upload()"
      ]
    },
    {
      "cell_type": "code",
      "execution_count": null,
      "metadata": {
        "colab": {
          "base_uri": "https://localhost:8080/"
        },
        "id": "CmBzfjZUlzmG",
        "outputId": "ed6452e7-598f-4b63-f94d-c89245dbc50d"
      },
      "outputs": [],
      "source": [
        "!unzip valid.zip"
      ]
    },
    {
      "cell_type": "code",
      "execution_count": null,
      "metadata": {
        "colab": {
          "base_uri": "https://localhost:8080/"
        },
        "id": "qUIINjlaIw5M",
        "outputId": "28d5de4f-a758-4341-8cf3-44bca975a934"
      },
      "outputs": [],
      "source": [
        "os.chdir(\"/content\")\n",
        "os.listdir()"
      ]
    },
    {
      "cell_type": "code",
      "execution_count": 16,
      "metadata": {
        "colab": {
          "base_uri": "https://localhost:8080/"
        },
        "id": "nOeeXUA4Yf_V",
        "outputId": "ee92c543-558a-4204-88c7-9df30fc28257"
      },
      "outputs": [
        {
          "name": "stdout",
          "output_type": "stream",
          "text": [
            "Found 34069 images belonging to 31 classes.\n",
            "Found 8525 images belonging to 31 classes.\n"
          ]
        }
      ],
      "source": [
        "# Load datasets and ensure each image is labeled with a class\n",
        "# Number of classes: 31\n",
        "from tensorflow.keras.preprocessing.image import ImageDataGenerator\n",
        "\n",
        "traingen = ImageDataGenerator(rescale=1./255)\n",
        "validgen = ImageDataGenerator(rescale=1./255)\n",
        "\n",
        "train_generator = traingen.flow_from_directory(\n",
        "    '/content/train',\n",
        "    target_size=(256, 256),\n",
        "    batch_size=128,\n",
        "    class_mode='categorical',\n",
        "    shuffle=True\n",
        ")\n",
        "\n",
        "valid_generator = validgen.flow_from_directory(\n",
        "    '/content/valid',\n",
        "    target_size=(256, 256),\n",
        "    batch_size=128,\n",
        "    shuffle=True,\n",
        "    class_mode='categorical'\n",
        ")"
      ]
    },
    {
      "cell_type": "code",
      "execution_count": 19,
      "metadata": {
        "id": "ehMCtQ0PYgGF"
      },
      "outputs": [],
      "source": [
        "from tensorflow.keras.models import Sequential\n",
        "\n",
        "from tensorflow.keras.applications.inception_v3 import InceptionV3\n",
        "from tensorflow.keras import layers, models\n",
        "from tensorflow.keras.layers import Dense, GlobalAveragePooling2D, Dense, Dropout\n",
        "\n",
        "\n",
        "## Loading InceptionV3 model\n",
        "base_model = InceptionV3(weights=\"imagenet\", include_top=False, input_shape=(256,256,3))\n",
        "\n",
        "finetune_afterwards = 290\n",
        "for layer in base_model.layers[:finetune_afterwards]:\n",
        "    layer.trainable = False\n",
        "\n",
        "GAP_2D = GlobalAveragePooling2D()\n",
        "Dense1 = Dense(800, activation = 'relu')\n",
        "Dropout1 = Dropout(0.2)\n",
        "Dense2 = Dense(300, activation = 'relu')\n",
        "Dropout2 = Dropout(0.2)\n",
        "prediction = Dense(31, activation ='softmax')\n",
        "\n",
        "\n",
        "model = models.Sequential([\n",
        "    base_model,\n",
        "    GAP_2D,\n",
        "    Dense1,\n",
        "    Dropout1,\n",
        "    Dense2,\n",
        "    Dropout2,\n",
        "    prediction\n",
        "])\n",
        "\n"
      ]
    },
    {
      "cell_type": "code",
      "execution_count": 20,
      "metadata": {
        "colab": {
          "base_uri": "https://localhost:8080/"
        },
        "id": "F6wRkOFi7Aos",
        "outputId": "2b039072-4245-4394-abaa-eafffadc9a49"
      },
      "outputs": [
        {
          "name": "stdout",
          "output_type": "stream",
          "text": [
            "Epoch 1/5\n",
            "266/266 [==============================] - 4455s 17s/step - loss: 0.4623 - accuracy: 0.8565 - val_loss: 0.2050 - val_accuracy: 0.9287\n",
            "Epoch 2/5\n",
            "266/266 [==============================] - 4451s 17s/step - loss: 0.1307 - accuracy: 0.9570 - val_loss: 0.1340 - val_accuracy: 0.9562\n",
            "Epoch 3/5\n",
            "266/266 [==============================] - 4484s 17s/step - loss: 0.0798 - accuracy: 0.9730 - val_loss: 0.1165 - val_accuracy: 0.9641\n",
            "Epoch 4/5\n",
            "266/266 [==============================] - 4432s 17s/step - loss: 0.0580 - accuracy: 0.9803 - val_loss: 0.1145 - val_accuracy: 0.9635\n",
            "Epoch 5/5\n",
            "266/266 [==============================] - 4443s 17s/step - loss: 0.0473 - accuracy: 0.9842 - val_loss: 0.1389 - val_accuracy: 0.9607\n"
          ]
        }
      ],
      "source": [
        "from tensorflow.keras.metrics import Accuracy\n",
        "from tensorflow.keras.callbacks import EarlyStopping\n",
        "import pickle\n",
        "\n",
        "model.compile(\n",
        "    optimizer='adam',\n",
        "    loss='categorical_crossentropy',\n",
        "    metrics=['accuracy'],\n",
        ")\n",
        "\n",
        "\n",
        "es = EarlyStopping(monitor='val_accuracy', mode='max', patience=2,  restore_best_weights=True)\n",
        "\n",
        "STEP_SIZE_TRAIN = 266\n",
        "STEP_SIZE_VALID = 66\n",
        "\n",
        "run = model.fit(train_generator,\n",
        "                steps_per_epoch=STEP_SIZE_TRAIN,\n",
        "                validation_data=valid_generator,\n",
        "                validation_steps=STEP_SIZE_VALID,\n",
        "                epochs=5\n",
        ")\n",
        "\n",
        "pickle.dump(model, open('model.pkl', 'wb'))"
      ]
    },
    {
      "cell_type": "code",
      "execution_count": 40,
      "metadata": {
        "colab": {
          "base_uri": "https://localhost:8080/"
        },
        "id": "TxRsk6iykR5m",
        "outputId": "b1535209-0eca-4dfc-a317-943555643ecc"
      },
      "outputs": [
        {
          "name": "stdout",
          "output_type": "stream",
          "text": [
            "66/66 [==============================] - 857s 13s/step - loss: 0.1403 - accuracy: 0.9603\n",
            "[0.14030654728412628, 0.9603456258773804]\n"
          ]
        }
      ],
      "source": [
        "# Evaluate the accuracy of the model\n",
        "scores = model.evaluate(valid_generator, steps=STEP_SIZE_VALID)\n",
        "print(scores)"
      ]
    }
  ],
  "metadata": {
    "colab": {
      "provenance": []
    },
    "kernelspec": {
      "display_name": "Python 3",
      "name": "python3"
    },
    "language_info": {
      "name": "python"
    }
  },
  "nbformat": 4,
  "nbformat_minor": 0
}
